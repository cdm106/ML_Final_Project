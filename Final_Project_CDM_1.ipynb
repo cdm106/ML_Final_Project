{
  "cells": [
    {
      "cell_type": "markdown",
      "metadata": {
        "id": "LDfBZ5rru9kG"
      },
      "source": [
        "# Final Project"
      ]
    },
    {
      "cell_type": "code",
      "execution_count": 2,
      "metadata": {
        "id": "J8oNigVbu9kI",
        "outputId": "b933459e-e72c-4248-98e4-2656f972ce95",
        "colab": {
          "base_uri": "https://localhost:8080/"
        }
      },
      "outputs": [
        {
          "output_type": "stream",
          "name": "stdout",
          "text": [
            "hello Bob\n"
          ]
        }
      ],
      "source": [
        "print('hello Bob')"
      ]
    }
  ],
  "metadata": {
    "kernelspec": {
      "display_name": "machine-learning-book",
      "language": "python",
      "name": "python3"
    },
    "language_info": {
      "codemirror_mode": {
        "name": "ipython",
        "version": 3
      },
      "file_extension": ".py",
      "mimetype": "text/x-python",
      "name": "python",
      "nbconvert_exporter": "python",
      "pygments_lexer": "ipython3",
      "version": "3.9.21"
    },
    "colab": {
      "provenance": []
    }
  },
  "nbformat": 4,
  "nbformat_minor": 0
}